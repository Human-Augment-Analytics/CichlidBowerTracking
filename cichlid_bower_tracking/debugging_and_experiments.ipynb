{
 "cells": [
  {
   "cell_type": "markdown",
   "metadata": {},
   "source": [
    "# Debugging and Experiments"
   ]
  },
  {
   "cell_type": "code",
   "execution_count": 1,
   "metadata": {},
   "outputs": [
    {
     "name": "stderr",
     "output_type": "stream",
     "text": [
      "/home/hice1/cclark339/.local/lib/python3.9/site-packages/tqdm/auto.py:21: TqdmWarning: IProgress not found. Please update jupyter and ipywidgets. See https://ipywidgets.readthedocs.io/en/stable/user_install.html\n",
      "  from .autonotebook import tqdm as notebook_tqdm\n"
     ]
    }
   ],
   "source": [
    "from data_distillation.models.transformer.feature_extractors.triplet_cross_attention_vit import TripletCrossAttentionViT as TCAiT\n",
    "from data_distillation.models.transformer.feature_extractors.tcait_extractor import TCAiTExtractor\n",
    "from data_distillation.models.transformer.feature_extractors.pyramid.pyra_tcait import PyraTCAiT\n",
    "from data_distillation.models.transformer.feature_extractors.pyramid.pyramid_vision_transformer import PyramidVisionTransformer as PVT\n",
    "\n",
    "from data_distillation.losses.triplet_losses.triplet_classification_loss import TripletClassificationLoss as TCLoss\n",
    "from data_distillation.losses.triplet_losses.triplet_loss import TripletLoss\n",
    "\n",
    "from data_distillation.optimization.schedulers.warmup_cosine_scheduler import WarmupCosineScheduler\n",
    "\n",
    "from data_distillation.testing.data.test_triplets import TestTriplets\n",
    "from data_distillation.testing.data.triplets import Triplets\n",
    "from data_distillation.data_distiller import DataDistiller\n",
    "\n",
    "from torch.utils.data.dataloader import DataLoader\n",
    "\n",
    "import torch.optim as optim\n",
    "import torch.nn as nn\n",
    "import torch\n",
    "\n",
    "from torchvision.transforms import Compose, Resize, RandomResizedCrop, CenterCrop, RandomHorizontalFlip, ColorJitter, Normalize, Lambda\n",
    "\n",
    "from sklearn.model_selection import train_test_split\n",
    "import matplotlib.pyplot as plt\n",
    "import pandas as pd\n",
    "import numpy as np"
   ]
  },
  {
   "cell_type": "markdown",
   "metadata": {},
   "source": [
    "## Debugging"
   ]
  },
  {
   "cell_type": "markdown",
   "metadata": {},
   "source": [
    "### `DataDistiller` Object\n",
    "\n",
    "1. Initialization **(DONE)**\n",
    "2. Initial Embedding **(DONE)**\n",
    "3. Omegas Scheduling **(DONE)**\n",
    "4. Triplet Mining **(DONE)**\n",
    "5. Saving/Loading Embeddings **(DONE)**\n",
    "6. Saving/Loading Triplets **(DONE)**\n",
    "7. Main Training/Validation Loop"
   ]
  },
  {
   "cell_type": "code",
   "execution_count": 2,
   "metadata": {},
   "outputs": [],
   "source": [
    "# paths\n",
    "BASE_DATA_DIR = '/home/hice1/cclark339/scratch/Data/WildlifeReID-10K/'\n",
    "TRAIN_META = BASE_DATA_DIR + 'train_metadata.csv'\n",
    "VALID_META = BASE_DATA_DIR + 'valid_metadata.csv'\n",
    "\n",
    "CHECKPOINTS_DIR = '/home/hice1/cclark339/scratch/Checkpoints/Experimentation/'\n",
    "EMBEDDINGS_DIR = '/home/hice1/cclark339/scratch/Embeddings/Experimentation/'\n",
    "TRIPLETS_DIR = '/home/hice1/cclark339/scratch/Triplets/Experimentation/'\n",
    "\n",
    "# transform args\n",
    "TRAIN_DIM = 224\n",
    "VALID_DIM = 256\n",
    "\n",
    "BRIGHTNESS = 0.4\n",
    "CONTRAST = 0.4\n",
    "SATURATION = 0.4\n",
    "HUE = 0.1\n",
    "\n",
    "NORM_MEANS = [0.485, 0.456, 0.406]\n",
    "NORM_STDS = [0.229, 0.224, 0.225]\n",
    "\n",
    "# setup args\n",
    "BATCH_SIZE = 16\n",
    "NUM_CLASSES = 7747\n",
    "CHANNELS = 3\n",
    "NUM_EPOCHS = 10\n",
    "DEVICE = 'gpu'\n",
    "GPU_ID = 0\n",
    "START_EPOCH = 0\n",
    "USE_DDP = False\n",
    "DISABLE_PROGRESS_BAR = False\n",
    "\n",
    "# model args\n",
    "EMBED_DIMS = [64, 128, 320, 512]\n",
    "HEAD_COUNTS = [1, 2, 5, 8]\n",
    "MLP_RATIOS = [8, 8, 4, 4]\n",
    "SR_RATIOS = [8, 4, 2, 1]\n",
    "DEPTHS = [3, 4, 6, 3]\n",
    "PATCH_SIZE = 4\n",
    "NUM_STAGES = 4\n",
    "DROPOUT = 0.1\n",
    "USE_IMPROVED = True\n",
    "CLASSIFICATION_INTENT = False\n",
    "ADD_CLASSIFIER = True\n",
    "\n",
    "# optimizer and scheduler args\n",
    "USE_LABEL_SMOOTHING = False\n",
    "LEARNING_RATE = 1e-4\n",
    "BETAS = [0.9, 0.999]\n",
    "WEIGHT_DECAY = 2.5e-4\n",
    "PATIENCE = 10\n",
    "WARMUP_EPOCHS = 3\n",
    "ETA_MIN = 0.0\n",
    "\n",
    "# triplet mining args\n",
    "NUM_TRIPLETS = 20\n",
    "NUM_WORKERS = 1\n",
    "THETAS = [0.3, 0.6]\n",
    "PRETR_MODEL = 'tf_efficientnet_b5.ns_jft_in1k'\n",
    "MAX_ATTEMPTS = 100\n",
    "P_MAX = 1.0\n",
    "MARGIN = 1.0\n",
    "REMINE_FREQ = 5"
   ]
  },
  {
   "cell_type": "code",
   "execution_count": 3,
   "metadata": {},
   "outputs": [
    {
     "data": {
      "text/html": [
       "<div>\n",
       "<style scoped>\n",
       "    .dataframe tbody tr th:only-of-type {\n",
       "        vertical-align: middle;\n",
       "    }\n",
       "\n",
       "    .dataframe tbody tr th {\n",
       "        vertical-align: top;\n",
       "    }\n",
       "\n",
       "    .dataframe thead th {\n",
       "        text-align: right;\n",
       "    }\n",
       "</style>\n",
       "<table border=\"1\" class=\"dataframe\">\n",
       "  <thead>\n",
       "    <tr style=\"text-align: right;\">\n",
       "      <th></th>\n",
       "      <th>identity</th>\n",
       "      <th>path</th>\n",
       "    </tr>\n",
       "  </thead>\n",
       "  <tbody>\n",
       "    <tr>\n",
       "      <th>0</th>\n",
       "      <td>AAUZebraFish_5</td>\n",
       "      <td>images/AAUZebraFish/data/Vid2_0627_be229507e65...</td>\n",
       "    </tr>\n",
       "    <tr>\n",
       "      <th>1</th>\n",
       "      <td>AAUZebraFish_5</td>\n",
       "      <td>images/AAUZebraFish/data/Vid2_0032_6a32c1f8cff...</td>\n",
       "    </tr>\n",
       "    <tr>\n",
       "      <th>2</th>\n",
       "      <td>AAUZebraFish_5</td>\n",
       "      <td>images/AAUZebraFish/data/Vid2_0392_353b7bef601...</td>\n",
       "    </tr>\n",
       "    <tr>\n",
       "      <th>3</th>\n",
       "      <td>AAUZebraFish_5</td>\n",
       "      <td>images/AAUZebraFish/data/Vid2_1048_5083ecc3d10...</td>\n",
       "    </tr>\n",
       "    <tr>\n",
       "      <th>4</th>\n",
       "      <td>AAUZebraFish_5</td>\n",
       "      <td>images/AAUZebraFish/data/Vid2_1090_6f64a8b87dc...</td>\n",
       "    </tr>\n",
       "  </tbody>\n",
       "</table>\n",
       "</div>"
      ],
      "text/plain": [
       "         identity                                               path\n",
       "0  AAUZebraFish_5  images/AAUZebraFish/data/Vid2_0627_be229507e65...\n",
       "1  AAUZebraFish_5  images/AAUZebraFish/data/Vid2_0032_6a32c1f8cff...\n",
       "2  AAUZebraFish_5  images/AAUZebraFish/data/Vid2_0392_353b7bef601...\n",
       "3  AAUZebraFish_5  images/AAUZebraFish/data/Vid2_1048_5083ecc3d10...\n",
       "4  AAUZebraFish_5  images/AAUZebraFish/data/Vid2_1090_6f64a8b87dc..."
      ]
     },
     "execution_count": 3,
     "metadata": {},
     "output_type": "execute_result"
    }
   ],
   "source": [
    "train_df = pd.read_csv(TRAIN_META)[['identity', 'path']].iloc[:1600]\n",
    "train_df.head()"
   ]
  },
  {
   "cell_type": "code",
   "execution_count": 4,
   "metadata": {},
   "outputs": [
    {
     "data": {
      "text/html": [
       "<div>\n",
       "<style scoped>\n",
       "    .dataframe tbody tr th:only-of-type {\n",
       "        vertical-align: middle;\n",
       "    }\n",
       "\n",
       "    .dataframe tbody tr th {\n",
       "        vertical-align: top;\n",
       "    }\n",
       "\n",
       "    .dataframe thead th {\n",
       "        text-align: right;\n",
       "    }\n",
       "</style>\n",
       "<table border=\"1\" class=\"dataframe\">\n",
       "  <thead>\n",
       "    <tr style=\"text-align: right;\">\n",
       "      <th></th>\n",
       "      <th>identity</th>\n",
       "      <th>path</th>\n",
       "    </tr>\n",
       "  </thead>\n",
       "  <tbody>\n",
       "    <tr>\n",
       "      <th>0</th>\n",
       "      <td>AAUZebraFish_5</td>\n",
       "      <td>images/AAUZebraFish/data/Vid2_0171_b24c0158895...</td>\n",
       "    </tr>\n",
       "    <tr>\n",
       "      <th>1</th>\n",
       "      <td>AAUZebraFish_5</td>\n",
       "      <td>images/AAUZebraFish/data/Vid2_1023_0d3e7eaaba5...</td>\n",
       "    </tr>\n",
       "    <tr>\n",
       "      <th>2</th>\n",
       "      <td>AAUZebraFish_5</td>\n",
       "      <td>images/AAUZebraFish/data/Vid2_0560_a59bd41df84...</td>\n",
       "    </tr>\n",
       "    <tr>\n",
       "      <th>3</th>\n",
       "      <td>AAUZebraFish_5</td>\n",
       "      <td>images/AAUZebraFish/data/Vid2_0202_d3b4df168f9...</td>\n",
       "    </tr>\n",
       "    <tr>\n",
       "      <th>4</th>\n",
       "      <td>AAUZebraFish_5</td>\n",
       "      <td>images/AAUZebraFish/data/Vid2_0593_aeff758b1e5...</td>\n",
       "    </tr>\n",
       "  </tbody>\n",
       "</table>\n",
       "</div>"
      ],
      "text/plain": [
       "         identity                                               path\n",
       "0  AAUZebraFish_5  images/AAUZebraFish/data/Vid2_0171_b24c0158895...\n",
       "1  AAUZebraFish_5  images/AAUZebraFish/data/Vid2_1023_0d3e7eaaba5...\n",
       "2  AAUZebraFish_5  images/AAUZebraFish/data/Vid2_0560_a59bd41df84...\n",
       "3  AAUZebraFish_5  images/AAUZebraFish/data/Vid2_0202_d3b4df168f9...\n",
       "4  AAUZebraFish_5  images/AAUZebraFish/data/Vid2_0593_aeff758b1e5..."
      ]
     },
     "execution_count": 4,
     "metadata": {},
     "output_type": "execute_result"
    }
   ],
   "source": [
    "valid_df = pd.read_csv(VALID_META)[['identity', 'path']].iloc[:160]\n",
    "valid_df.head()"
   ]
  },
  {
   "cell_type": "code",
   "execution_count": 5,
   "metadata": {},
   "outputs": [
    {
     "name": "stdout",
     "output_type": "stream",
     "text": [
      "train # unique IDs: 2\n",
      "valid # unique IDs: 2\n"
     ]
    }
   ],
   "source": [
    "print(f'train # unique IDs: {train_df[\"identity\"].nunique()}')\n",
    "print(f'valid # unique IDs: {valid_df[\"identity\"].nunique()}')"
   ]
  },
  {
   "cell_type": "code",
   "execution_count": 6,
   "metadata": {},
   "outputs": [
    {
     "name": "stdout",
     "output_type": "stream",
     "text": [
      "train_df shape: (1600, 2)\n",
      "valid_df shape: (160, 2)\n"
     ]
    }
   ],
   "source": [
    "print(f'train_df shape: {train_df.shape}')\n",
    "print(f'valid_df shape: {valid_df.shape}')"
   ]
  },
  {
   "cell_type": "code",
   "execution_count": 7,
   "metadata": {},
   "outputs": [],
   "source": [
    "train_transform = [\n",
    "    Lambda(lambda img: img.repeat(3, 1, 1) if img.shape[0] == 1 else img),\n",
    "    RandomResizedCrop(TRAIN_DIM),\n",
    "    RandomHorizontalFlip(),\n",
    "    ColorJitter(BRIGHTNESS, CONTRAST, SATURATION, HUE),\n",
    "    Normalize(NORM_MEANS, NORM_STDS)\n",
    "]\n",
    "\n",
    "valid_transform = [\n",
    "    Lambda(lambda img: img.repeat(3, 1, 1) if img.shape[0] == 1 else img),\n",
    "    Resize(VALID_DIM),\n",
    "    CenterCrop(TRAIN_DIM),\n",
    "    Normalize(NORM_MEANS, NORM_STDS)\n",
    "]"
   ]
  },
  {
   "cell_type": "code",
   "execution_count": 8,
   "metadata": {},
   "outputs": [],
   "source": [
    "valid_dataset = Triplets(valid_df, transform=Compose(valid_transform))\n",
    "valid_dataloader = DataLoader(dataset=valid_dataset, batch_size=BATCH_SIZE)"
   ]
  },
  {
   "cell_type": "code",
   "execution_count": 9,
   "metadata": {},
   "outputs": [],
   "source": [
    "model = PyraTCAiT(embed_dims=EMBED_DIMS, head_counts=HEAD_COUNTS, mlp_ratios=MLP_RATIOS, sr_ratios=SR_RATIOS, depths=DEPTHS,\n",
    "                  num_stages=NUM_STAGES, dropout=DROPOUT, first_patch_dim=PATCH_SIZE, in_channels=CHANNELS, in_dim=TRAIN_DIM, \n",
    "                  add_classifier=ADD_CLASSIFIER, use_improved=USE_IMPROVED, classification_intent=CLASSIFICATION_INTENT, num_classes=NUM_CLASSES)"
   ]
  },
  {
   "cell_type": "code",
   "execution_count": 10,
   "metadata": {},
   "outputs": [],
   "source": [
    "optimizer = optim.AdamW(model.parameters(), lr=LEARNING_RATE, betas=tuple(BETAS), weight_decay=WEIGHT_DECAY)\n",
    "scheduler = WarmupCosineScheduler(optimizer=optimizer, warmup_epochs=WARMUP_EPOCHS, total_epochs=NUM_EPOCHS, eta_min=ETA_MIN)"
   ]
  },
  {
   "cell_type": "code",
   "execution_count": 11,
   "metadata": {},
   "outputs": [],
   "source": [
    "loss_fn = TCLoss(use_label_smoothing=USE_LABEL_SMOOTHING)"
   ]
  },
  {
   "cell_type": "code",
   "execution_count": 12,
   "metadata": {},
   "outputs": [
    {
     "name": "stderr",
     "output_type": "stream",
     "text": [
      "Unexpected keys (bn2.bias, bn2.num_batches_tracked, bn2.running_mean, bn2.running_var, bn2.weight, classifier.bias, classifier.weight, conv_head.weight) found while loading pretrained weights. This may be expected if model is being adapted.\n"
     ]
    }
   ],
   "source": [
    "distiller = DataDistiller(df=train_df, transform=train_transform, valid_dataloader=valid_dataloader, model=model, loss_fn=loss_fn, optimizer=optimizer, scheduler=scheduler, nepochs=NUM_EPOCHS, batch_size=BATCH_SIZE, \n",
    "                          nclasses=NUM_CLASSES, ntriplets=NUM_TRIPLETS, nworkers=NUM_WORKERS, thetas=THETAS, pretr_model=PRETR_MODEL, checkpoints_dir=CHECKPOINTS_DIR, base_data_dir=BASE_DATA_DIR, embeddings_dir=EMBEDDINGS_DIR,\n",
    "                          triplets_dir=TRIPLETS_DIR, device=DEVICE, gpu_id=GPU_ID, start_epoch=START_EPOCH, ddp=USE_DDP, disable_progress_bar=DISABLE_PROGRESS_BAR, max_attempts=MAX_ATTEMPTS, p_max=P_MAX, margin=MARGIN, remine_freq=REMINE_FREQ)"
   ]
  },
  {
   "cell_type": "code",
   "execution_count": 13,
   "metadata": {},
   "outputs": [
    {
     "data": {
      "text/plain": [
       "device(type='cuda', index=0)"
      ]
     },
     "execution_count": 13,
     "metadata": {},
     "output_type": "execute_result"
    }
   ],
   "source": [
    "next(model.parameters()).device"
   ]
  },
  {
   "cell_type": "code",
   "execution_count": 14,
   "metadata": {},
   "outputs": [
    {
     "name": "stderr",
     "output_type": "stream",
     "text": [
      "Initial Embedding, Batch [99/100]: 100%|██████████| 100/100 [00:16<00:00,  5.99it/s]\n"
     ]
    },
    {
     "name": "stdout",
     "output_type": "stream",
     "text": [
      "Epoch 0 Embeddings Saved!\n"
     ]
    }
   ],
   "source": [
    "distiller._initial_embed(debug=True)\n",
    "distiller._save_embeddings(epoch=START_EPOCH, metric=0.0)"
   ]
  },
  {
   "cell_type": "code",
   "execution_count": 15,
   "metadata": {},
   "outputs": [
    {
     "data": {
      "text/plain": [
       "2"
      ]
     },
     "execution_count": 15,
     "metadata": {},
     "output_type": "execute_result"
    }
   ],
   "source": [
    "len(list(distiller.embeddings.keys()))"
   ]
  },
  {
   "cell_type": "code",
   "execution_count": 16,
   "metadata": {},
   "outputs": [
    {
     "data": {
      "text/plain": [
       "978"
      ]
     },
     "execution_count": 16,
     "metadata": {},
     "output_type": "execute_result"
    }
   ],
   "source": [
    "len(list(distiller.embeddings['AAUZebraFish_5'].keys()))"
   ]
  },
  {
   "cell_type": "code",
   "execution_count": 17,
   "metadata": {},
   "outputs": [
    {
     "data": {
      "text/plain": [
       "dict_keys(['AAUZebraFish_5', 'AAUZebraFish_3'])"
      ]
     },
     "execution_count": 17,
     "metadata": {},
     "output_type": "execute_result"
    }
   ],
   "source": [
    "distiller.embeddings.keys()"
   ]
  },
  {
   "cell_type": "code",
   "execution_count": 18,
   "metadata": {},
   "outputs": [
    {
     "name": "stdout",
     "output_type": "stream",
     "text": [
      "Previous Epoch's Embeddings Loaded!\n"
     ]
    },
    {
     "data": {
      "text/plain": [
       "0.0"
      ]
     },
     "execution_count": 18,
     "metadata": {},
     "output_type": "execute_result"
    }
   ],
   "source": [
    "distiller._load_embeddings(epoch=START_EPOCH + 1)"
   ]
  },
  {
   "cell_type": "code",
   "execution_count": 19,
   "metadata": {},
   "outputs": [
    {
     "data": {
      "text/plain": [
       "2"
      ]
     },
     "execution_count": 19,
     "metadata": {},
     "output_type": "execute_result"
    }
   ],
   "source": [
    "len(list(distiller.embeddings.keys()))"
   ]
  },
  {
   "cell_type": "code",
   "execution_count": 20,
   "metadata": {},
   "outputs": [
    {
     "data": {
      "text/plain": [
       "978"
      ]
     },
     "execution_count": 20,
     "metadata": {},
     "output_type": "execute_result"
    }
   ],
   "source": [
    "len(list(distiller.embeddings['AAUZebraFish_5'].keys()))"
   ]
  },
  {
   "cell_type": "code",
   "execution_count": 21,
   "metadata": {},
   "outputs": [
    {
     "data": {
      "text/plain": [
       "dict_keys(['AAUZebraFish_5', 'AAUZebraFish_3'])"
      ]
     },
     "execution_count": 21,
     "metadata": {},
     "output_type": "execute_result"
    }
   ],
   "source": [
    "distiller.embeddings.keys()"
   ]
  },
  {
   "cell_type": "code",
   "execution_count": 22,
   "metadata": {},
   "outputs": [
    {
     "name": "stdout",
     "output_type": "stream",
     "text": [
      "omegas_1[0] == 0.5? True\n",
      "omegas_1[1] == 0.5? True\n",
      "omegas_1[2] == 0.0? True\n",
      "\n",
      "sum(omegas_1) == 1.00? True\n"
     ]
    }
   ],
   "source": [
    "omegas_1 = distiller._omegas(p=0.0, p_max=1.0)\n",
    "\n",
    "print(f'omegas_1[0] == 0.5? {omegas_1[0] == 0.5}')\n",
    "print(f'omegas_1[1] == 0.5? {omegas_1[1] == 0.5}')\n",
    "print(f'omegas_1[2] == 0.0? {omegas_1[2] == 0.0}\\n')\n",
    "\n",
    "print(f'sum(omegas_1) == 1.00? {sum(omegas_1) == 1.00}')"
   ]
  },
  {
   "cell_type": "code",
   "execution_count": 23,
   "metadata": {},
   "outputs": [
    {
     "name": "stdout",
     "output_type": "stream",
     "text": [
      "omegas_2[0] == 0.5? True\n",
      "omegas_2[1] == 0.5? True\n",
      "omegas_2[2] == 0.0? True\n",
      "\n",
      "sum(omegas_2) == 1.00? True\n"
     ]
    }
   ],
   "source": [
    "omegas_2 = distiller._omegas(p=0.15, p_max=1.0)\n",
    "\n",
    "print(f'omegas_2[0] == 0.5? {omegas_2[0] == 0.5}')\n",
    "print(f'omegas_2[1] == 0.5? {omegas_2[1] == 0.5}')\n",
    "print(f'omegas_2[2] == 0.0? {omegas_2[2] == 0.0}\\n')\n",
    "\n",
    "print(f'sum(omegas_2) == 1.00? {sum(omegas_2) == 1.00}')"
   ]
  },
  {
   "cell_type": "code",
   "execution_count": 24,
   "metadata": {},
   "outputs": [
    {
     "name": "stdout",
     "output_type": "stream",
     "text": [
      "omegas_3[0] == 0.5? True\n",
      "omegas_3[1] == 0.5? True\n",
      "omegas_3[2] == 0.0? True\n",
      "\n",
      "sum(omegas_3) == 1.00? True\n"
     ]
    }
   ],
   "source": [
    "omegas_3 = distiller._omegas(p=0.3, p_max=1.0)\n",
    "\n",
    "print(f'omegas_3[0] == 0.5? {omegas_2[0] == 0.5}')\n",
    "print(f'omegas_3[1] == 0.5? {omegas_2[1] == 0.5}')\n",
    "print(f'omegas_3[2] == 0.0? {omegas_2[2] == 0.0}\\n')\n",
    "\n",
    "print(f'sum(omegas_3) == 1.00? {sum(omegas_3) == 1.00}')"
   ]
  },
  {
   "cell_type": "code",
   "execution_count": 25,
   "metadata": {},
   "outputs": [
    {
     "name": "stdout",
     "output_type": "stream",
     "text": [
      "omegas_4[0] == 0.375? True\n",
      "omegas_4[1] == 0.625? True\n",
      "omegas_4[2] == 0.0? True\n",
      "\n",
      "sum(omegas_4) == 1.00? True\n"
     ]
    }
   ],
   "source": [
    "omegas_4 = distiller._omegas(p=0.45, p_max=1.0)\n",
    "\n",
    "print(f'omegas_4[0] == 0.375? {omegas_4[0] == 0.375}')\n",
    "print(f'omegas_4[1] == 0.625? {omegas_4[1] == 0.625}')\n",
    "print(f'omegas_4[2] == 0.0? {omegas_4[2] == 0.0}\\n')\n",
    "\n",
    "print(f'sum(omegas_4) == 1.00? {sum(omegas_4) == 1.00}')"
   ]
  },
  {
   "cell_type": "code",
   "execution_count": 26,
   "metadata": {},
   "outputs": [
    {
     "name": "stdout",
     "output_type": "stream",
     "text": [
      "omegas_5[0] == 0.25? True\n",
      "omegas_5[1] == 0.75? True\n",
      "omegas_5[2] == 0.0? True\n",
      "\n",
      "sum(omegas_5) == 1.00? True\n"
     ]
    }
   ],
   "source": [
    "omegas_5 = distiller._omegas(p=0.6, p_max=1.0)\n",
    "\n",
    "print(f'omegas_5[0] == 0.25? {omegas_5[0] == 0.25}')\n",
    "print(f'omegas_5[1] == 0.75? {omegas_5[1] == 0.75}')\n",
    "print(f'omegas_5[2] == 0.0? {omegas_5[2] == 0.0}\\n')\n",
    "\n",
    "print(f'sum(omegas_5) == 1.00? {sum(omegas_5) == 1.00}')"
   ]
  },
  {
   "cell_type": "code",
   "execution_count": 27,
   "metadata": {},
   "outputs": [
    {
     "name": "stdout",
     "output_type": "stream",
     "text": [
      "omegas_6[0] == 0.125? False\n",
      "omegas_6[1] == 0.625? True\n",
      "omegas_6[2] == 0.25? False\n",
      "\n",
      "sum(omegas_6) == 1.00? True\n"
     ]
    }
   ],
   "source": [
    "omegas_6 = distiller._omegas(p=0.8, p_max=1.0)\n",
    "\n",
    "print(f'omegas_6[0] == 0.125? {omegas_6[0] == 0.125}')\n",
    "print(f'omegas_6[1] == 0.625? {omegas_6[1] == 0.625}')\n",
    "print(f'omegas_6[2] == 0.25? {omegas_6[2] == 0.25}\\n')\n",
    "\n",
    "print(f'sum(omegas_6) == 1.00? {sum(omegas_6) == 1.00}')"
   ]
  },
  {
   "cell_type": "code",
   "execution_count": 28,
   "metadata": {},
   "outputs": [
    {
     "data": {
      "text/plain": [
       "(0.12499999999999997, 0.625, 0.25000000000000006)"
      ]
     },
     "execution_count": 28,
     "metadata": {},
     "output_type": "execute_result"
    }
   ],
   "source": [
    "omegas_6"
   ]
  },
  {
   "cell_type": "code",
   "execution_count": 29,
   "metadata": {},
   "outputs": [
    {
     "name": "stdout",
     "output_type": "stream",
     "text": [
      "omegas_7[0] == 0.0? True\n",
      "omegas_7[1] == 0.5? True\n",
      "omegas_7[2] == 0.5? True\n",
      "\n",
      "sum(omegas_7) == 1.00? True\n"
     ]
    }
   ],
   "source": [
    "omegas_7 = distiller._omegas(p=1.0, p_max=1.0)\n",
    "\n",
    "print(f'omegas_7[0] == 0.0? {omegas_7[0] == 0.0}')\n",
    "print(f'omegas_7[1] == 0.5? {omegas_7[1] == 0.5}')\n",
    "print(f'omegas_7[2] == 0.5? {omegas_7[2] == 0.5}\\n')\n",
    "\n",
    "print(f'sum(omegas_7) == 1.00? {sum(omegas_7) == 1.00}')"
   ]
  },
  {
   "cell_type": "code",
   "execution_count": 30,
   "metadata": {},
   "outputs": [
    {
     "name": "stdout",
     "output_type": "stream",
     "text": [
      "20 Randomly-Mined Triplets Selected!\n"
     ]
    }
   ],
   "source": [
    "trip_data = distiller._random_mine(NUM_TRIPLETS)"
   ]
  },
  {
   "cell_type": "code",
   "execution_count": 31,
   "metadata": {},
   "outputs": [
    {
     "name": "stdout",
     "output_type": "stream",
     "text": [
      "triplet 1: tuple of 6 elements (3 identities, 3 paths)\n",
      "triplet 2: tuple of 6 elements (3 identities, 3 paths)\n",
      "triplet 3: tuple of 6 elements (3 identities, 3 paths)\n",
      "triplet 4: tuple of 6 elements (3 identities, 3 paths)\n",
      "triplet 5: tuple of 6 elements (3 identities, 3 paths)\n",
      "triplet 6: tuple of 6 elements (3 identities, 3 paths)\n",
      "triplet 7: tuple of 6 elements (3 identities, 3 paths)\n",
      "triplet 8: tuple of 6 elements (3 identities, 3 paths)\n",
      "triplet 9: tuple of 6 elements (3 identities, 3 paths)\n",
      "triplet 10: tuple of 6 elements (3 identities, 3 paths)\n",
      "triplet 11: tuple of 6 elements (3 identities, 3 paths)\n",
      "triplet 12: tuple of 6 elements (3 identities, 3 paths)\n",
      "triplet 13: tuple of 6 elements (3 identities, 3 paths)\n",
      "triplet 14: tuple of 6 elements (3 identities, 3 paths)\n",
      "triplet 15: tuple of 6 elements (3 identities, 3 paths)\n",
      "triplet 16: tuple of 6 elements (3 identities, 3 paths)\n",
      "triplet 17: tuple of 6 elements (3 identities, 3 paths)\n",
      "triplet 18: tuple of 6 elements (3 identities, 3 paths)\n",
      "triplet 19: tuple of 6 elements (3 identities, 3 paths)\n",
      "triplet 20: tuple of 6 elements (3 identities, 3 paths)\n",
      "\n",
      "triplet 1 contents: {'anchor_id': 'AAUZebraFish_3', 'positive_id': 'AAUZebraFish_3', 'negative_id': 'AAUZebraFish_5', 'anchor_path': '/home/hice1/cclark339/scratch/Data/WildlifeReID-10K/images/AAUZebraFish/data/Vid1_0602_3b93ac75226a9546.png', 'positive_path': '/home/hice1/cclark339/scratch/Data/WildlifeReID-10K/images/AAUZebraFish/data/Vid1_0078_8a79ac320a6a4f0b.png', 'negative_path': '/home/hice1/cclark339/scratch/Data/WildlifeReID-10K/images/AAUZebraFish/data/Vid2_0413_c0e01db6067eec03.png'}\n"
     ]
    }
   ],
   "source": [
    "for i, triplet in enumerate(trip_data):\n",
    "    print(f'triplet {i + 1}: tuple of {len(triplet)} elements (3 identities, 3 paths)')\n",
    "    \n",
    "print(f'\\ntriplet 1 contents: {trip_data[0]}')"
   ]
  },
  {
   "cell_type": "code",
   "execution_count": 32,
   "metadata": {},
   "outputs": [
    {
     "name": "stdout",
     "output_type": "stream",
     "text": [
      "20 Semi-Hard Negative Mined Triplets Selected!\n"
     ]
    }
   ],
   "source": [
    "trip_data, dist_data = distiller._semihard_mine(NUM_TRIPLETS, MARGIN, debug=True)"
   ]
  },
  {
   "cell_type": "code",
   "execution_count": 33,
   "metadata": {},
   "outputs": [
    {
     "name": "stdout",
     "output_type": "stream",
     "text": [
      "triplet 1: tuple of 6 elements (3 identities, 3 paths)\n",
      "triplet 2: tuple of 6 elements (3 identities, 3 paths)\n",
      "triplet 3: tuple of 6 elements (3 identities, 3 paths)\n",
      "triplet 4: tuple of 6 elements (3 identities, 3 paths)\n",
      "triplet 5: tuple of 6 elements (3 identities, 3 paths)\n",
      "triplet 6: tuple of 6 elements (3 identities, 3 paths)\n",
      "triplet 7: tuple of 6 elements (3 identities, 3 paths)\n",
      "triplet 8: tuple of 6 elements (3 identities, 3 paths)\n",
      "triplet 9: tuple of 6 elements (3 identities, 3 paths)\n",
      "triplet 10: tuple of 6 elements (3 identities, 3 paths)\n",
      "triplet 11: tuple of 6 elements (3 identities, 3 paths)\n",
      "triplet 12: tuple of 6 elements (3 identities, 3 paths)\n",
      "triplet 13: tuple of 6 elements (3 identities, 3 paths)\n",
      "triplet 14: tuple of 6 elements (3 identities, 3 paths)\n",
      "triplet 15: tuple of 6 elements (3 identities, 3 paths)\n",
      "triplet 16: tuple of 6 elements (3 identities, 3 paths)\n",
      "triplet 17: tuple of 6 elements (3 identities, 3 paths)\n",
      "triplet 18: tuple of 6 elements (3 identities, 3 paths)\n",
      "triplet 19: tuple of 6 elements (3 identities, 3 paths)\n",
      "triplet 20: tuple of 6 elements (3 identities, 3 paths)\n",
      "\n",
      "triplet 1 contents: {'anchor_id': 'AAUZebraFish_3', 'positive_id': 'AAUZebraFish_3', 'negative_id': 'AAUZebraFish_5', 'anchor_path': '/home/hice1/cclark339/scratch/Data/WildlifeReID-10K/images/AAUZebraFish/data/Vid1_0053_90b977006fc26def.png', 'positive_path': '/home/hice1/cclark339/scratch/Data/WildlifeReID-10K/images/AAUZebraFish/data/Vid1_0361_90d960157c57fefc.png', 'negative_path': '/home/hice1/cclark339/scratch/Data/WildlifeReID-10K/images/AAUZebraFish/data/Vid2_0319_3396da55656ea39f.png'}\n"
     ]
    }
   ],
   "source": [
    "for i, triplet in enumerate(trip_data):\n",
    "    print(f'triplet {i + 1}: tuple of {len(triplet)} elements (3 identities, 3 paths)')\n",
    "    \n",
    "print(f'\\ntriplet 1 contents: {trip_data[0]}')"
   ]
  },
  {
   "cell_type": "code",
   "execution_count": 34,
   "metadata": {},
   "outputs": [
    {
     "name": "stdout",
     "output_type": "stream",
     "text": [
      "triplet 1: AP [0.0377], NP [0.0869], AP + Margin [1.0377] ---> Condition Met? True\n",
      "triplet 2: AP [31.7822], NP [31.7827], AP + Margin [32.7822] ---> Condition Met? True\n",
      "triplet 3: AP [17.7163], NP [17.7281], AP + Margin [18.7163] ---> Condition Met? True\n",
      "triplet 4: AP [18.4284], NP [18.4822], AP + Margin [19.4284] ---> Condition Met? True\n",
      "triplet 5: AP [32.7025], NP [32.7149], AP + Margin [33.7025] ---> Condition Met? True\n",
      "triplet 6: AP [16.3497], NP [17.1273], AP + Margin [17.3497] ---> Condition Met? True\n",
      "triplet 7: AP [11.4020], NP [11.4132], AP + Margin [12.4020] ---> Condition Met? True\n",
      "triplet 8: AP [31.9230], NP [31.9241], AP + Margin [32.9230] ---> Condition Met? True\n",
      "triplet 9: AP [31.6216], NP [31.6222], AP + Margin [32.6216] ---> Condition Met? True\n",
      "triplet 10: AP [16.2846], NP [17.1229], AP + Margin [17.2846] ---> Condition Met? True\n",
      "triplet 11: AP [0.0209], NP [0.0547], AP + Margin [1.0209] ---> Condition Met? True\n",
      "triplet 12: AP [18.4005], NP [18.4013], AP + Margin [19.4005] ---> Condition Met? True\n",
      "triplet 13: AP [16.4387], NP [16.7645], AP + Margin [17.4387] ---> Condition Met? True\n",
      "triplet 14: AP [35.1411], NP [35.2247], AP + Margin [36.1411] ---> Condition Met? True\n",
      "triplet 15: AP [11.7229], NP [12.1048], AP + Margin [12.7229] ---> Condition Met? True\n",
      "triplet 16: AP [31.4830], NP [31.5361], AP + Margin [32.4830] ---> Condition Met? True\n",
      "triplet 17: AP [18.3870], NP [18.6636], AP + Margin [19.3870] ---> Condition Met? True\n",
      "triplet 18: AP [18.5554], NP [18.6612], AP + Margin [19.5554] ---> Condition Met? True\n",
      "triplet 19: AP [18.3072], NP [18.3513], AP + Margin [19.3072] ---> Condition Met? True\n",
      "triplet 20: AP [26.5564], NP [26.5584], AP + Margin [27.5564] ---> Condition Met? True\n"
     ]
    }
   ],
   "source": [
    "for i, distances in enumerate(dist_data):\n",
    "    print(f'triplet {i + 1}: AP [{distances[\"anchor_positive\"]:.4f}], NP [{distances[\"anchor_negative\"]:.4f}], AP + Margin [{distances[\"anchor_positive_margin\"]:.4f}] ---> Condition Met? {distances[\"anchor_positive\"] < distances[\"anchor_negative\"] < distances[\"anchor_positive_margin\"]}')"
   ]
  },
  {
   "cell_type": "code",
   "execution_count": 35,
   "metadata": {},
   "outputs": [
    {
     "name": "stdout",
     "output_type": "stream",
     "text": [
      "20 Hard Negative Mined Triplets Selected!\n"
     ]
    }
   ],
   "source": [
    "trip_data, dist_data = distiller._hard_mine(NUM_TRIPLETS, debug=True)"
   ]
  },
  {
   "cell_type": "code",
   "execution_count": 36,
   "metadata": {},
   "outputs": [
    {
     "name": "stdout",
     "output_type": "stream",
     "text": [
      "triplet 1: tuple of 6 elements (3 identities, 3 paths)\n",
      "triplet 2: tuple of 6 elements (3 identities, 3 paths)\n",
      "triplet 3: tuple of 6 elements (3 identities, 3 paths)\n",
      "triplet 4: tuple of 6 elements (3 identities, 3 paths)\n",
      "triplet 5: tuple of 6 elements (3 identities, 3 paths)\n",
      "triplet 6: tuple of 6 elements (3 identities, 3 paths)\n",
      "triplet 7: tuple of 6 elements (3 identities, 3 paths)\n",
      "triplet 8: tuple of 6 elements (3 identities, 3 paths)\n",
      "triplet 9: tuple of 6 elements (3 identities, 3 paths)\n",
      "triplet 10: tuple of 6 elements (3 identities, 3 paths)\n",
      "triplet 11: tuple of 6 elements (3 identities, 3 paths)\n",
      "triplet 12: tuple of 6 elements (3 identities, 3 paths)\n",
      "triplet 13: tuple of 6 elements (3 identities, 3 paths)\n",
      "triplet 14: tuple of 6 elements (3 identities, 3 paths)\n",
      "triplet 15: tuple of 6 elements (3 identities, 3 paths)\n",
      "triplet 16: tuple of 6 elements (3 identities, 3 paths)\n",
      "triplet 17: tuple of 6 elements (3 identities, 3 paths)\n",
      "triplet 18: tuple of 6 elements (3 identities, 3 paths)\n",
      "triplet 19: tuple of 6 elements (3 identities, 3 paths)\n",
      "triplet 20: tuple of 6 elements (3 identities, 3 paths)\n",
      "\n",
      "triplet 1 contents: {'anchor_id': 'AAUZebraFish_3', 'positive_id': 'AAUZebraFish_3', 'negative_id': 'AAUZebraFish_5', 'anchor_path': '/home/hice1/cclark339/scratch/Data/WildlifeReID-10K/images/AAUZebraFish/data/Vid1_0397_b890b415e5c9a719.png', 'positive_path': '/home/hice1/cclark339/scratch/Data/WildlifeReID-10K/images/AAUZebraFish/data/Vid1_0319_4cf43512fc4fff7a.png', 'negative_path': '/home/hice1/cclark339/scratch/Data/WildlifeReID-10K/images/AAUZebraFish/data/Vid2_0378_93f2e4e0d24769ad.png'}\n"
     ]
    }
   ],
   "source": [
    "for i, triplet in enumerate(trip_data):\n",
    "    print(f'triplet {i + 1}: tuple of {len(triplet)} elements (3 identities, 3 paths)')\n",
    "    \n",
    "print(f'\\ntriplet 1 contents: {trip_data[0]}')"
   ]
  },
  {
   "cell_type": "code",
   "execution_count": 37,
   "metadata": {},
   "outputs": [
    {
     "name": "stdout",
     "output_type": "stream",
     "text": [
      "triplet 1: AP [0.0274], NP [0.0217] ---> Condition Met? True\n",
      "triplet 2: AP [13.0254], NP [0.0173] ---> Condition Met? True\n",
      "triplet 3: AP [25.6769], NP [0.0849] ---> Condition Met? True\n",
      "triplet 4: AP [15.5603], NP [0.0219] ---> Condition Met? True\n",
      "triplet 5: AP [16.3197], NP [0.0297] ---> Condition Met? True\n",
      "triplet 6: AP [16.3485], NP [16.3307] ---> Condition Met? True\n",
      "triplet 7: AP [13.7644], NP [0.0679] ---> Condition Met? True\n",
      "triplet 8: AP [0.0156], NP [0.0100] ---> Condition Met? True\n",
      "triplet 9: AP [27.3841], NP [1.8513] ---> Condition Met? True\n",
      "triplet 10: AP [18.3272], NP [18.3157] ---> Condition Met? True\n",
      "triplet 11: AP [0.0219], NP [0.0123] ---> Condition Met? True\n",
      "triplet 12: AP [17.8546], NP [14.6642] ---> Condition Met? True\n",
      "triplet 13: AP [27.2388], NP [22.7143] ---> Condition Met? True\n",
      "triplet 14: AP [33.1880], NP [16.4670] ---> Condition Met? True\n",
      "triplet 15: AP [31.3382], NP [27.3388] ---> Condition Met? True\n",
      "triplet 16: AP [0.0175], NP [0.0125] ---> Condition Met? True\n",
      "triplet 17: AP [15.6050], NP [14.9518] ---> Condition Met? True\n",
      "triplet 18: AP [22.0582], NP [17.7395] ---> Condition Met? True\n",
      "triplet 19: AP [7.4186], NP [0.0163] ---> Condition Met? True\n",
      "triplet 20: AP [34.5495], NP [33.1719] ---> Condition Met? True\n"
     ]
    }
   ],
   "source": [
    "for i, distances in enumerate(dist_data):\n",
    "    print(f'triplet {i + 1}: AP [{distances[\"anchor_positive\"]:.4f}], NP [{distances[\"anchor_negative\"]:.4f}] ---> Condition Met? {distances[\"anchor_positive\"] > distances[\"anchor_negative\"]}')"
   ]
  },
  {
   "cell_type": "code",
   "execution_count": 38,
   "metadata": {},
   "outputs": [
    {
     "name": "stdout",
     "output_type": "stream",
     "text": [
      "2 Randomly-Mined Triplets Selected!\n",
      "12 Semi-Hard Negative Mined Triplets Selected!\n",
      "5 Hard Negative Mined Triplets Selected!\n",
      "Epoch 0 Triplets Saved!\n"
     ]
    }
   ],
   "source": [
    "tmp_dataloader = distiller._mine(0.8, 1.0, MARGIN, epoch=0, transform=train_transform)"
   ]
  },
  {
   "cell_type": "code",
   "execution_count": 39,
   "metadata": {},
   "outputs": [
    {
     "name": "stdout",
     "output_type": "stream",
     "text": [
      "Previous Epoch's Triplets Loaded!\n"
     ]
    }
   ],
   "source": [
    "tmp_df = distiller._load_triplets(epoch=1)"
   ]
  },
  {
   "cell_type": "code",
   "execution_count": 40,
   "metadata": {},
   "outputs": [
    {
     "data": {
      "text/html": [
       "<div>\n",
       "<style scoped>\n",
       "    .dataframe tbody tr th:only-of-type {\n",
       "        vertical-align: middle;\n",
       "    }\n",
       "\n",
       "    .dataframe tbody tr th {\n",
       "        vertical-align: top;\n",
       "    }\n",
       "\n",
       "    .dataframe thead th {\n",
       "        text-align: right;\n",
       "    }\n",
       "</style>\n",
       "<table border=\"1\" class=\"dataframe\">\n",
       "  <thead>\n",
       "    <tr style=\"text-align: right;\">\n",
       "      <th></th>\n",
       "      <th>anchor_id</th>\n",
       "      <th>positive_id</th>\n",
       "      <th>negative_id</th>\n",
       "      <th>anchor_path</th>\n",
       "      <th>positive_path</th>\n",
       "      <th>negative_path</th>\n",
       "    </tr>\n",
       "  </thead>\n",
       "  <tbody>\n",
       "    <tr>\n",
       "      <th>0</th>\n",
       "      <td>AAUZebraFish_3</td>\n",
       "      <td>AAUZebraFish_3</td>\n",
       "      <td>AAUZebraFish_5</td>\n",
       "      <td>/home/hice1/cclark339/scratch/Data/WildlifeReI...</td>\n",
       "      <td>/home/hice1/cclark339/scratch/Data/WildlifeReI...</td>\n",
       "      <td>/home/hice1/cclark339/scratch/Data/WildlifeReI...</td>\n",
       "    </tr>\n",
       "    <tr>\n",
       "      <th>1</th>\n",
       "      <td>AAUZebraFish_3</td>\n",
       "      <td>AAUZebraFish_3</td>\n",
       "      <td>AAUZebraFish_5</td>\n",
       "      <td>/home/hice1/cclark339/scratch/Data/WildlifeReI...</td>\n",
       "      <td>/home/hice1/cclark339/scratch/Data/WildlifeReI...</td>\n",
       "      <td>/home/hice1/cclark339/scratch/Data/WildlifeReI...</td>\n",
       "    </tr>\n",
       "    <tr>\n",
       "      <th>2</th>\n",
       "      <td>AAUZebraFish_3</td>\n",
       "      <td>AAUZebraFish_3</td>\n",
       "      <td>AAUZebraFish_5</td>\n",
       "      <td>/home/hice1/cclark339/scratch/Data/WildlifeReI...</td>\n",
       "      <td>/home/hice1/cclark339/scratch/Data/WildlifeReI...</td>\n",
       "      <td>/home/hice1/cclark339/scratch/Data/WildlifeReI...</td>\n",
       "    </tr>\n",
       "    <tr>\n",
       "      <th>3</th>\n",
       "      <td>AAUZebraFish_3</td>\n",
       "      <td>AAUZebraFish_3</td>\n",
       "      <td>AAUZebraFish_5</td>\n",
       "      <td>/home/hice1/cclark339/scratch/Data/WildlifeReI...</td>\n",
       "      <td>/home/hice1/cclark339/scratch/Data/WildlifeReI...</td>\n",
       "      <td>/home/hice1/cclark339/scratch/Data/WildlifeReI...</td>\n",
       "    </tr>\n",
       "    <tr>\n",
       "      <th>4</th>\n",
       "      <td>AAUZebraFish_5</td>\n",
       "      <td>AAUZebraFish_5</td>\n",
       "      <td>AAUZebraFish_3</td>\n",
       "      <td>/home/hice1/cclark339/scratch/Data/WildlifeReI...</td>\n",
       "      <td>/home/hice1/cclark339/scratch/Data/WildlifeReI...</td>\n",
       "      <td>/home/hice1/cclark339/scratch/Data/WildlifeReI...</td>\n",
       "    </tr>\n",
       "    <tr>\n",
       "      <th>5</th>\n",
       "      <td>AAUZebraFish_5</td>\n",
       "      <td>AAUZebraFish_5</td>\n",
       "      <td>AAUZebraFish_3</td>\n",
       "      <td>/home/hice1/cclark339/scratch/Data/WildlifeReI...</td>\n",
       "      <td>/home/hice1/cclark339/scratch/Data/WildlifeReI...</td>\n",
       "      <td>/home/hice1/cclark339/scratch/Data/WildlifeReI...</td>\n",
       "    </tr>\n",
       "    <tr>\n",
       "      <th>6</th>\n",
       "      <td>AAUZebraFish_3</td>\n",
       "      <td>AAUZebraFish_3</td>\n",
       "      <td>AAUZebraFish_5</td>\n",
       "      <td>/home/hice1/cclark339/scratch/Data/WildlifeReI...</td>\n",
       "      <td>/home/hice1/cclark339/scratch/Data/WildlifeReI...</td>\n",
       "      <td>/home/hice1/cclark339/scratch/Data/WildlifeReI...</td>\n",
       "    </tr>\n",
       "    <tr>\n",
       "      <th>7</th>\n",
       "      <td>AAUZebraFish_3</td>\n",
       "      <td>AAUZebraFish_3</td>\n",
       "      <td>AAUZebraFish_5</td>\n",
       "      <td>/home/hice1/cclark339/scratch/Data/WildlifeReI...</td>\n",
       "      <td>/home/hice1/cclark339/scratch/Data/WildlifeReI...</td>\n",
       "      <td>/home/hice1/cclark339/scratch/Data/WildlifeReI...</td>\n",
       "    </tr>\n",
       "    <tr>\n",
       "      <th>8</th>\n",
       "      <td>AAUZebraFish_3</td>\n",
       "      <td>AAUZebraFish_3</td>\n",
       "      <td>AAUZebraFish_5</td>\n",
       "      <td>/home/hice1/cclark339/scratch/Data/WildlifeReI...</td>\n",
       "      <td>/home/hice1/cclark339/scratch/Data/WildlifeReI...</td>\n",
       "      <td>/home/hice1/cclark339/scratch/Data/WildlifeReI...</td>\n",
       "    </tr>\n",
       "    <tr>\n",
       "      <th>9</th>\n",
       "      <td>AAUZebraFish_5</td>\n",
       "      <td>AAUZebraFish_5</td>\n",
       "      <td>AAUZebraFish_3</td>\n",
       "      <td>/home/hice1/cclark339/scratch/Data/WildlifeReI...</td>\n",
       "      <td>/home/hice1/cclark339/scratch/Data/WildlifeReI...</td>\n",
       "      <td>/home/hice1/cclark339/scratch/Data/WildlifeReI...</td>\n",
       "    </tr>\n",
       "    <tr>\n",
       "      <th>10</th>\n",
       "      <td>AAUZebraFish_3</td>\n",
       "      <td>AAUZebraFish_3</td>\n",
       "      <td>AAUZebraFish_5</td>\n",
       "      <td>/home/hice1/cclark339/scratch/Data/WildlifeReI...</td>\n",
       "      <td>/home/hice1/cclark339/scratch/Data/WildlifeReI...</td>\n",
       "      <td>/home/hice1/cclark339/scratch/Data/WildlifeReI...</td>\n",
       "    </tr>\n",
       "    <tr>\n",
       "      <th>11</th>\n",
       "      <td>AAUZebraFish_5</td>\n",
       "      <td>AAUZebraFish_5</td>\n",
       "      <td>AAUZebraFish_3</td>\n",
       "      <td>/home/hice1/cclark339/scratch/Data/WildlifeReI...</td>\n",
       "      <td>/home/hice1/cclark339/scratch/Data/WildlifeReI...</td>\n",
       "      <td>/home/hice1/cclark339/scratch/Data/WildlifeReI...</td>\n",
       "    </tr>\n",
       "    <tr>\n",
       "      <th>12</th>\n",
       "      <td>AAUZebraFish_3</td>\n",
       "      <td>AAUZebraFish_3</td>\n",
       "      <td>AAUZebraFish_5</td>\n",
       "      <td>/home/hice1/cclark339/scratch/Data/WildlifeReI...</td>\n",
       "      <td>/home/hice1/cclark339/scratch/Data/WildlifeReI...</td>\n",
       "      <td>/home/hice1/cclark339/scratch/Data/WildlifeReI...</td>\n",
       "    </tr>\n",
       "    <tr>\n",
       "      <th>13</th>\n",
       "      <td>AAUZebraFish_5</td>\n",
       "      <td>AAUZebraFish_5</td>\n",
       "      <td>AAUZebraFish_3</td>\n",
       "      <td>/home/hice1/cclark339/scratch/Data/WildlifeReI...</td>\n",
       "      <td>/home/hice1/cclark339/scratch/Data/WildlifeReI...</td>\n",
       "      <td>/home/hice1/cclark339/scratch/Data/WildlifeReI...</td>\n",
       "    </tr>\n",
       "    <tr>\n",
       "      <th>14</th>\n",
       "      <td>AAUZebraFish_3</td>\n",
       "      <td>AAUZebraFish_3</td>\n",
       "      <td>AAUZebraFish_5</td>\n",
       "      <td>/home/hice1/cclark339/scratch/Data/WildlifeReI...</td>\n",
       "      <td>/home/hice1/cclark339/scratch/Data/WildlifeReI...</td>\n",
       "      <td>/home/hice1/cclark339/scratch/Data/WildlifeReI...</td>\n",
       "    </tr>\n",
       "    <tr>\n",
       "      <th>15</th>\n",
       "      <td>AAUZebraFish_5</td>\n",
       "      <td>AAUZebraFish_5</td>\n",
       "      <td>AAUZebraFish_3</td>\n",
       "      <td>/home/hice1/cclark339/scratch/Data/WildlifeReI...</td>\n",
       "      <td>/home/hice1/cclark339/scratch/Data/WildlifeReI...</td>\n",
       "      <td>/home/hice1/cclark339/scratch/Data/WildlifeReI...</td>\n",
       "    </tr>\n",
       "    <tr>\n",
       "      <th>16</th>\n",
       "      <td>AAUZebraFish_3</td>\n",
       "      <td>AAUZebraFish_3</td>\n",
       "      <td>AAUZebraFish_5</td>\n",
       "      <td>/home/hice1/cclark339/scratch/Data/WildlifeReI...</td>\n",
       "      <td>/home/hice1/cclark339/scratch/Data/WildlifeReI...</td>\n",
       "      <td>/home/hice1/cclark339/scratch/Data/WildlifeReI...</td>\n",
       "    </tr>\n",
       "    <tr>\n",
       "      <th>17</th>\n",
       "      <td>AAUZebraFish_5</td>\n",
       "      <td>AAUZebraFish_5</td>\n",
       "      <td>AAUZebraFish_3</td>\n",
       "      <td>/home/hice1/cclark339/scratch/Data/WildlifeReI...</td>\n",
       "      <td>/home/hice1/cclark339/scratch/Data/WildlifeReI...</td>\n",
       "      <td>/home/hice1/cclark339/scratch/Data/WildlifeReI...</td>\n",
       "    </tr>\n",
       "    <tr>\n",
       "      <th>18</th>\n",
       "      <td>AAUZebraFish_3</td>\n",
       "      <td>AAUZebraFish_3</td>\n",
       "      <td>AAUZebraFish_5</td>\n",
       "      <td>/home/hice1/cclark339/scratch/Data/WildlifeReI...</td>\n",
       "      <td>/home/hice1/cclark339/scratch/Data/WildlifeReI...</td>\n",
       "      <td>/home/hice1/cclark339/scratch/Data/WildlifeReI...</td>\n",
       "    </tr>\n",
       "  </tbody>\n",
       "</table>\n",
       "</div>"
      ],
      "text/plain": [
       "         anchor_id     positive_id     negative_id  \\\n",
       "0   AAUZebraFish_3  AAUZebraFish_3  AAUZebraFish_5   \n",
       "1   AAUZebraFish_3  AAUZebraFish_3  AAUZebraFish_5   \n",
       "2   AAUZebraFish_3  AAUZebraFish_3  AAUZebraFish_5   \n",
       "3   AAUZebraFish_3  AAUZebraFish_3  AAUZebraFish_5   \n",
       "4   AAUZebraFish_5  AAUZebraFish_5  AAUZebraFish_3   \n",
       "5   AAUZebraFish_5  AAUZebraFish_5  AAUZebraFish_3   \n",
       "6   AAUZebraFish_3  AAUZebraFish_3  AAUZebraFish_5   \n",
       "7   AAUZebraFish_3  AAUZebraFish_3  AAUZebraFish_5   \n",
       "8   AAUZebraFish_3  AAUZebraFish_3  AAUZebraFish_5   \n",
       "9   AAUZebraFish_5  AAUZebraFish_5  AAUZebraFish_3   \n",
       "10  AAUZebraFish_3  AAUZebraFish_3  AAUZebraFish_5   \n",
       "11  AAUZebraFish_5  AAUZebraFish_5  AAUZebraFish_3   \n",
       "12  AAUZebraFish_3  AAUZebraFish_3  AAUZebraFish_5   \n",
       "13  AAUZebraFish_5  AAUZebraFish_5  AAUZebraFish_3   \n",
       "14  AAUZebraFish_3  AAUZebraFish_3  AAUZebraFish_5   \n",
       "15  AAUZebraFish_5  AAUZebraFish_5  AAUZebraFish_3   \n",
       "16  AAUZebraFish_3  AAUZebraFish_3  AAUZebraFish_5   \n",
       "17  AAUZebraFish_5  AAUZebraFish_5  AAUZebraFish_3   \n",
       "18  AAUZebraFish_3  AAUZebraFish_3  AAUZebraFish_5   \n",
       "\n",
       "                                          anchor_path  \\\n",
       "0   /home/hice1/cclark339/scratch/Data/WildlifeReI...   \n",
       "1   /home/hice1/cclark339/scratch/Data/WildlifeReI...   \n",
       "2   /home/hice1/cclark339/scratch/Data/WildlifeReI...   \n",
       "3   /home/hice1/cclark339/scratch/Data/WildlifeReI...   \n",
       "4   /home/hice1/cclark339/scratch/Data/WildlifeReI...   \n",
       "5   /home/hice1/cclark339/scratch/Data/WildlifeReI...   \n",
       "6   /home/hice1/cclark339/scratch/Data/WildlifeReI...   \n",
       "7   /home/hice1/cclark339/scratch/Data/WildlifeReI...   \n",
       "8   /home/hice1/cclark339/scratch/Data/WildlifeReI...   \n",
       "9   /home/hice1/cclark339/scratch/Data/WildlifeReI...   \n",
       "10  /home/hice1/cclark339/scratch/Data/WildlifeReI...   \n",
       "11  /home/hice1/cclark339/scratch/Data/WildlifeReI...   \n",
       "12  /home/hice1/cclark339/scratch/Data/WildlifeReI...   \n",
       "13  /home/hice1/cclark339/scratch/Data/WildlifeReI...   \n",
       "14  /home/hice1/cclark339/scratch/Data/WildlifeReI...   \n",
       "15  /home/hice1/cclark339/scratch/Data/WildlifeReI...   \n",
       "16  /home/hice1/cclark339/scratch/Data/WildlifeReI...   \n",
       "17  /home/hice1/cclark339/scratch/Data/WildlifeReI...   \n",
       "18  /home/hice1/cclark339/scratch/Data/WildlifeReI...   \n",
       "\n",
       "                                        positive_path  \\\n",
       "0   /home/hice1/cclark339/scratch/Data/WildlifeReI...   \n",
       "1   /home/hice1/cclark339/scratch/Data/WildlifeReI...   \n",
       "2   /home/hice1/cclark339/scratch/Data/WildlifeReI...   \n",
       "3   /home/hice1/cclark339/scratch/Data/WildlifeReI...   \n",
       "4   /home/hice1/cclark339/scratch/Data/WildlifeReI...   \n",
       "5   /home/hice1/cclark339/scratch/Data/WildlifeReI...   \n",
       "6   /home/hice1/cclark339/scratch/Data/WildlifeReI...   \n",
       "7   /home/hice1/cclark339/scratch/Data/WildlifeReI...   \n",
       "8   /home/hice1/cclark339/scratch/Data/WildlifeReI...   \n",
       "9   /home/hice1/cclark339/scratch/Data/WildlifeReI...   \n",
       "10  /home/hice1/cclark339/scratch/Data/WildlifeReI...   \n",
       "11  /home/hice1/cclark339/scratch/Data/WildlifeReI...   \n",
       "12  /home/hice1/cclark339/scratch/Data/WildlifeReI...   \n",
       "13  /home/hice1/cclark339/scratch/Data/WildlifeReI...   \n",
       "14  /home/hice1/cclark339/scratch/Data/WildlifeReI...   \n",
       "15  /home/hice1/cclark339/scratch/Data/WildlifeReI...   \n",
       "16  /home/hice1/cclark339/scratch/Data/WildlifeReI...   \n",
       "17  /home/hice1/cclark339/scratch/Data/WildlifeReI...   \n",
       "18  /home/hice1/cclark339/scratch/Data/WildlifeReI...   \n",
       "\n",
       "                                        negative_path  \n",
       "0   /home/hice1/cclark339/scratch/Data/WildlifeReI...  \n",
       "1   /home/hice1/cclark339/scratch/Data/WildlifeReI...  \n",
       "2   /home/hice1/cclark339/scratch/Data/WildlifeReI...  \n",
       "3   /home/hice1/cclark339/scratch/Data/WildlifeReI...  \n",
       "4   /home/hice1/cclark339/scratch/Data/WildlifeReI...  \n",
       "5   /home/hice1/cclark339/scratch/Data/WildlifeReI...  \n",
       "6   /home/hice1/cclark339/scratch/Data/WildlifeReI...  \n",
       "7   /home/hice1/cclark339/scratch/Data/WildlifeReI...  \n",
       "8   /home/hice1/cclark339/scratch/Data/WildlifeReI...  \n",
       "9   /home/hice1/cclark339/scratch/Data/WildlifeReI...  \n",
       "10  /home/hice1/cclark339/scratch/Data/WildlifeReI...  \n",
       "11  /home/hice1/cclark339/scratch/Data/WildlifeReI...  \n",
       "12  /home/hice1/cclark339/scratch/Data/WildlifeReI...  \n",
       "13  /home/hice1/cclark339/scratch/Data/WildlifeReI...  \n",
       "14  /home/hice1/cclark339/scratch/Data/WildlifeReI...  \n",
       "15  /home/hice1/cclark339/scratch/Data/WildlifeReI...  \n",
       "16  /home/hice1/cclark339/scratch/Data/WildlifeReI...  \n",
       "17  /home/hice1/cclark339/scratch/Data/WildlifeReI...  \n",
       "18  /home/hice1/cclark339/scratch/Data/WildlifeReI...  "
      ]
     },
     "execution_count": 40,
     "metadata": {},
     "output_type": "execute_result"
    }
   ],
   "source": [
    "tmp_df"
   ]
  },
  {
   "cell_type": "code",
   "execution_count": null,
   "metadata": {},
   "outputs": [],
   "source": []
  }
 ],
 "metadata": {
  "kernelspec": {
   "display_name": "Python [conda env:miniconda3-CichlidDistillation]",
   "language": "python",
   "name": "conda-env-miniconda3-CichlidDistillation-py"
  },
  "language_info": {
   "codemirror_mode": {
    "name": "ipython",
    "version": 3
   },
   "file_extension": ".py",
   "mimetype": "text/x-python",
   "name": "python",
   "nbconvert_exporter": "python",
   "pygments_lexer": "ipython3",
   "version": "3.9.19"
  }
 },
 "nbformat": 4,
 "nbformat_minor": 2
}
