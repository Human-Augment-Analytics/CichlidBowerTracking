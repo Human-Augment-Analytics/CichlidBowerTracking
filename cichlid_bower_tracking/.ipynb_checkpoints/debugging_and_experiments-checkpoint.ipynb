{
 "cells": [
  {
   "cell_type": "markdown",
   "metadata": {},
   "source": [
    "# Distillation Debugging"
   ]
  },
  {
   "cell_type": "code",
   "execution_count": 1,
   "metadata": {},
   "outputs": [
    {
     "name": "stderr",
     "output_type": "stream",
     "text": [
      "/home/hice1/cclark339/.local/lib/python3.9/site-packages/tqdm/auto.py:21: TqdmWarning: IProgress not found. Please update jupyter and ipywidgets. See https://ipywidgets.readthedocs.io/en/stable/user_install.html\n",
      "  from .autonotebook import tqdm as notebook_tqdm\n"
     ]
    }
   ],
   "source": [
    "from data_distillation.models.transformer.feature_extractors.triplet_cross_attention_vit import TripletCrossAttentionViT as TCAiT\n",
    "from data_distillation.models.transformer.feature_extractors.tcait_extractor import TCAiTExtractor\n",
    "from data_distillation.models.transformer.feature_extractors.pyramid.pyra_tcait import PyraTCAiT\n",
    "from data_distillation.models.transformer.feature_extractors.pyramid.pyramid_vision_transformer import PyramidVisionTransformer as PVT\n",
    "\n",
    "from data_distillation.losses.triplet_losses.triplet_classification_loss import TripletClassificationLoss as TCLoss\n",
    "from data_distillation.losses.triplet_losses.triplet_loss import TripletLoss\n",
    "\n",
    "from data_distillation.optimization.schedulers.warmup_cosine_scheduler import WarmupCosineScheduler\n",
    "\n",
    "from data_distillation.testing.data.test_triplets import TestTriplets\n",
    "from data_distillation.testing.data.triplets import Triplets\n",
    "from data_distillation.data_distiller import DataDistiller\n",
    "\n",
    "from torch.utils.data.dataloader import DataLoader\n",
    "\n",
    "import torch.optim as optim\n",
    "import torch.nn as nn\n",
    "import torch\n",
    "\n",
    "from torchvision.transforms import Compose, Resize, RandomResizedCrop, CenterCrop, RandomHorizontalFlip, ColorJitter, Normalize, Lambda\n",
    "\n",
    "from sklearn.model_selection import train_test_split\n",
    "import matplotlib.pyplot as plt\n",
    "import pandas as pd\n",
    "import numpy as np"
   ]
  },
  {
   "cell_type": "markdown",
   "metadata": {},
   "source": [
    "# "
   ]
  },
  {
   "cell_type": "markdown",
   "metadata": {},
   "source": [
    "## Test and debug TCAiT model"
   ]
  },
  {
   "cell_type": "code",
   "execution_count": 2,
   "metadata": {},
   "outputs": [],
   "source": []
  },
  {
   "cell_type": "code",
   "execution_count": 3,
   "metadata": {},
   "outputs": [],
   "source": []
  },
  {
   "cell_type": "code",
   "execution_count": 4,
   "metadata": {},
   "outputs": [],
   "source": []
  },
  {
   "cell_type": "code",
   "execution_count": 5,
   "metadata": {},
   "outputs": [],
   "source": []
  },
  {
   "cell_type": "code",
   "execution_count": 6,
   "metadata": {},
   "outputs": [],
   "source": []
  },
  {
   "cell_type": "code",
   "execution_count": 7,
   "metadata": {},
   "outputs": [
    {
     "name": "stdout",
     "output_type": "stream",
     "text": [
      "Extractor\n",
      "==============================================================================================================\n",
      "Name                                                                   | Params       | Size                \n",
      "--------------------------------------------------------------------------------------------------------------\n",
      "patcher.patch_conv.weight                                              |       393216 | (512, 3, 16, 16)    \n",
      "patcher.patch_conv.bias                                                |          512 | (512,)              \n",
      "anchor_cls_tokenizer.cls_tokens                                        |          512 | (1, 1, 512)         \n",
      "positive_cls_tokenizer.cls_tokens                                      |          512 | (1, 1, 512)         \n",
      "negative_cls_tokenizer.cls_tokens                                      |          512 | (1, 1, 512)         \n",
      "anchor_pos_encoder.pos_embedding                                       |       100864 | (1, 197, 512)       \n",
      "positive_pos_encoder.pos_embedding                                     |       100864 | (1, 197, 512)       \n",
      "negative_pos_encoder.pos_embedding                                     |       100864 | (1, 197, 512)       \n",
      "transformer_blocks.0.norm1.weight                                      |          512 | (512,)              \n",
      "transformer_blocks.0.norm1.bias                                        |          512 | (512,)              \n",
      "transformer_blocks.0.attention.in_proj_weight                          |       786432 | (1536, 512)         \n",
      "transformer_blocks.0.attention.in_proj_bias                            |         1536 | (1536,)             \n",
      "transformer_blocks.0.attention.out_proj.weight                         |       262144 | (512, 512)          \n",
      "transformer_blocks.0.attention.out_proj.bias                           |          512 | (512,)              \n",
      "transformer_blocks.0.norm2.weight                                      |          512 | (512,)              \n",
      "transformer_blocks.0.norm2.bias                                        |          512 | (512,)              \n",
      "transformer_blocks.0.mlp.0.weight                                      |      1048576 | (2048, 512)         \n",
      "transformer_blocks.0.mlp.0.bias                                        |         2048 | (2048,)             \n",
      "transformer_blocks.0.mlp.2.weight                                      |      1048576 | (512, 2048)         \n",
      "transformer_blocks.0.mlp.2.bias                                        |          512 | (512,)              \n",
      "transformer_blocks.1.norm1.weight                                      |          512 | (512,)              \n",
      "transformer_blocks.1.norm1.bias                                        |          512 | (512,)              \n",
      "transformer_blocks.1.attention.in_proj_weight                          |       786432 | (1536, 512)         \n",
      "transformer_blocks.1.attention.in_proj_bias                            |         1536 | (1536,)             \n",
      "transformer_blocks.1.attention.out_proj.weight                         |       262144 | (512, 512)          \n",
      "transformer_blocks.1.attention.out_proj.bias                           |          512 | (512,)              \n",
      "transformer_blocks.1.norm2.weight                                      |          512 | (512,)              \n",
      "transformer_blocks.1.norm2.bias                                        |          512 | (512,)              \n",
      "transformer_blocks.1.mlp.0.weight                                      |      1048576 | (2048, 512)         \n",
      "transformer_blocks.1.mlp.0.bias                                        |         2048 | (2048,)             \n",
      "transformer_blocks.1.mlp.2.weight                                      |      1048576 | (512, 2048)         \n",
      "transformer_blocks.1.mlp.2.bias                                        |          512 | (512,)              \n",
      "transformer_blocks.2.norm1.weight                                      |          512 | (512,)              \n",
      "transformer_blocks.2.norm1.bias                                        |          512 | (512,)              \n",
      "transformer_blocks.2.attention.in_proj_weight                          |       786432 | (1536, 512)         \n",
      "transformer_blocks.2.attention.in_proj_bias                            |         1536 | (1536,)             \n",
      "transformer_blocks.2.attention.out_proj.weight                         |       262144 | (512, 512)          \n",
      "transformer_blocks.2.attention.out_proj.bias                           |          512 | (512,)              \n",
      "transformer_blocks.2.norm2.weight                                      |          512 | (512,)              \n",
      "transformer_blocks.2.norm2.bias                                        |          512 | (512,)              \n",
      "transformer_blocks.2.mlp.0.weight                                      |      1048576 | (2048, 512)         \n",
      "transformer_blocks.2.mlp.0.bias                                        |         2048 | (2048,)             \n",
      "transformer_blocks.2.mlp.2.weight                                      |      1048576 | (512, 2048)         \n",
      "transformer_blocks.2.mlp.2.bias                                        |          512 | (512,)              \n",
      "transformer_blocks.3.norm1.weight                                      |          512 | (512,)              \n",
      "transformer_blocks.3.norm1.bias                                        |          512 | (512,)              \n",
      "transformer_blocks.3.attention.in_proj_weight                          |       786432 | (1536, 512)         \n",
      "transformer_blocks.3.attention.in_proj_bias                            |         1536 | (1536,)             \n",
      "transformer_blocks.3.attention.out_proj.weight                         |       262144 | (512, 512)          \n",
      "transformer_blocks.3.attention.out_proj.bias                           |          512 | (512,)              \n",
      "transformer_blocks.3.norm2.weight                                      |          512 | (512,)              \n",
      "transformer_blocks.3.norm2.bias                                        |          512 | (512,)              \n",
      "transformer_blocks.3.mlp.0.weight                                      |      1048576 | (2048, 512)         \n",
      "transformer_blocks.3.mlp.0.bias                                        |         2048 | (2048,)             \n",
      "transformer_blocks.3.mlp.2.weight                                      |      1048576 | (512, 2048)         \n",
      "transformer_blocks.3.mlp.2.bias                                        |          512 | (512,)              \n",
      "transformer_blocks.4.norm1.weight                                      |          512 | (512,)              \n",
      "transformer_blocks.4.norm1.bias                                        |          512 | (512,)              \n",
      "transformer_blocks.4.attention.in_proj_weight                          |       786432 | (1536, 512)         \n",
      "transformer_blocks.4.attention.in_proj_bias                            |         1536 | (1536,)             \n",
      "transformer_blocks.4.attention.out_proj.weight                         |       262144 | (512, 512)          \n",
      "transformer_blocks.4.attention.out_proj.bias                           |          512 | (512,)              \n",
      "transformer_blocks.4.norm2.weight                                      |          512 | (512,)              \n",
      "transformer_blocks.4.norm2.bias                                        |          512 | (512,)              \n",
      "transformer_blocks.4.mlp.0.weight                                      |      1048576 | (2048, 512)         \n",
      "transformer_blocks.4.mlp.0.bias                                        |         2048 | (2048,)             \n",
      "transformer_blocks.4.mlp.2.weight                                      |      1048576 | (512, 2048)         \n",
      "transformer_blocks.4.mlp.2.bias                                        |          512 | (512,)              \n",
      "transformer_blocks.5.norm1.weight                                      |          512 | (512,)              \n",
      "transformer_blocks.5.norm1.bias                                        |          512 | (512,)              \n",
      "transformer_blocks.5.attention.in_proj_weight                          |       786432 | (1536, 512)         \n",
      "transformer_blocks.5.attention.in_proj_bias                            |         1536 | (1536,)             \n",
      "transformer_blocks.5.attention.out_proj.weight                         |       262144 | (512, 512)          \n",
      "transformer_blocks.5.attention.out_proj.bias                           |          512 | (512,)              \n",
      "transformer_blocks.5.norm2.weight                                      |          512 | (512,)              \n",
      "transformer_blocks.5.norm2.bias                                        |          512 | (512,)              \n",
      "transformer_blocks.5.mlp.0.weight                                      |      1048576 | (2048, 512)         \n",
      "transformer_blocks.5.mlp.0.bias                                        |         2048 | (2048,)             \n",
      "transformer_blocks.5.mlp.2.weight                                      |      1048576 | (512, 2048)         \n",
      "transformer_blocks.5.mlp.2.bias                                        |          512 | (512,)              \n",
      "transformer_blocks.6.norm1.weight                                      |          512 | (512,)              \n",
      "transformer_blocks.6.norm1.bias                                        |          512 | (512,)              \n",
      "transformer_blocks.6.attention.in_proj_weight                          |       786432 | (1536, 512)         \n",
      "transformer_blocks.6.attention.in_proj_bias                            |         1536 | (1536,)             \n",
      "transformer_blocks.6.attention.out_proj.weight                         |       262144 | (512, 512)          \n",
      "transformer_blocks.6.attention.out_proj.bias                           |          512 | (512,)              \n",
      "transformer_blocks.6.norm2.weight                                      |          512 | (512,)              \n",
      "transformer_blocks.6.norm2.bias                                        |          512 | (512,)              \n",
      "transformer_blocks.6.mlp.0.weight                                      |      1048576 | (2048, 512)         \n",
      "transformer_blocks.6.mlp.0.bias                                        |         2048 | (2048,)             \n",
      "transformer_blocks.6.mlp.2.weight                                      |      1048576 | (512, 2048)         \n",
      "transformer_blocks.6.mlp.2.bias                                        |          512 | (512,)              \n",
      "transformer_blocks.7.norm1.weight                                      |          512 | (512,)              \n",
      "transformer_blocks.7.norm1.bias                                        |          512 | (512,)              \n",
      "transformer_blocks.7.attention.in_proj_weight                          |       786432 | (1536, 512)         \n",
      "transformer_blocks.7.attention.in_proj_bias                            |         1536 | (1536,)             \n",
      "transformer_blocks.7.attention.out_proj.weight                         |       262144 | (512, 512)          \n",
      "transformer_blocks.7.attention.out_proj.bias                           |          512 | (512,)              \n",
      "transformer_blocks.7.norm2.weight                                      |          512 | (512,)              \n",
      "transformer_blocks.7.norm2.bias                                        |          512 | (512,)              \n",
      "transformer_blocks.7.mlp.0.weight                                      |      1048576 | (2048, 512)         \n",
      "transformer_blocks.7.mlp.0.bias                                        |         2048 | (2048,)             \n",
      "transformer_blocks.7.mlp.2.weight                                      |      1048576 | (512, 2048)         \n",
      "transformer_blocks.7.mlp.2.bias                                        |          512 | (512,)              \n",
      "positive_cross_attn.attention.in_proj_weight                           |       786432 | (1536, 512)         \n",
      "positive_cross_attn.attention.in_proj_bias                             |         1536 | (1536,)             \n",
      "positive_cross_attn.attention.out_proj.weight                          |       262144 | (512, 512)          \n",
      "positive_cross_attn.attention.out_proj.bias                            |          512 | (512,)              \n",
      "positive_cross_attn.norm.weight                                        |          512 | (512,)              \n",
      "positive_cross_attn.norm.bias                                          |          512 | (512,)              \n",
      "negative_cross_attn.attention.in_proj_weight                           |       786432 | (1536, 512)         \n",
      "negative_cross_attn.attention.in_proj_bias                             |         1536 | (1536,)             \n",
      "negative_cross_attn.attention.out_proj.weight                          |       262144 | (512, 512)          \n",
      "negative_cross_attn.attention.out_proj.bias                            |          512 | (512,)              \n",
      "negative_cross_attn.norm.weight                                        |          512 | (512,)              \n",
      "negative_cross_attn.norm.bias                                          |          512 | (512,)              \n",
      "--------------------------------------------------------------------------------------------------------------\n",
      "TOTAL EXTRACTOR # PARAMS                                               |                            28020224\n",
      "\n",
      "Classifier\n",
      "==============================================================================================================\n",
      "Name                                                                   | # Params     | Size                \n",
      "--------------------------------------------------------------------------------------------------------------\n",
      "blocks.0.norm1.weight                                                  |          512 | (512,)              \n",
      "blocks.0.norm1.bias                                                    |          512 | (512,)              \n",
      "blocks.0.attention.in_proj_weight                                      |       786432 | (1536, 512)         \n",
      "blocks.0.attention.in_proj_bias                                        |         1536 | (1536,)             \n",
      "blocks.0.attention.out_proj.weight                                     |       262144 | (512, 512)          \n",
      "blocks.0.attention.out_proj.bias                                       |          512 | (512,)              \n",
      "blocks.0.norm2.weight                                                  |          512 | (512,)              \n",
      "blocks.0.norm2.bias                                                    |          512 | (512,)              \n",
      "blocks.0.mlp.0.weight                                                  |      1048576 | (2048, 512)         \n",
      "blocks.0.mlp.0.bias                                                    |         2048 | (2048,)             \n",
      "blocks.0.mlp.2.weight                                                  |      1048576 | (512, 2048)         \n",
      "blocks.0.mlp.2.bias                                                    |          512 | (512,)              \n",
      "blocks.1.norm1.weight                                                  |          512 | (512,)              \n",
      "blocks.1.norm1.bias                                                    |          512 | (512,)              \n",
      "blocks.1.attention.in_proj_weight                                      |       786432 | (1536, 512)         \n",
      "blocks.1.attention.in_proj_bias                                        |         1536 | (1536,)             \n",
      "blocks.1.attention.out_proj.weight                                     |       262144 | (512, 512)          \n",
      "blocks.1.attention.out_proj.bias                                       |          512 | (512,)              \n",
      "blocks.1.norm2.weight                                                  |          512 | (512,)              \n",
      "blocks.1.norm2.bias                                                    |          512 | (512,)              \n",
      "blocks.1.mlp.0.weight                                                  |      1048576 | (2048, 512)         \n",
      "blocks.1.mlp.0.bias                                                    |         2048 | (2048,)             \n",
      "blocks.1.mlp.2.weight                                                  |      1048576 | (512, 2048)         \n",
      "blocks.1.mlp.2.bias                                                    |          512 | (512,)              \n",
      "mlp.0.weight                                                           |      1048576 | (2048, 512)         \n",
      "mlp.0.bias                                                             |         2048 | (2048,)             \n",
      "mlp.1.weight                                                           |         2048 | (2048,)             \n",
      "mlp.1.bias                                                             |         2048 | (2048,)             \n",
      "mlp.3.weight                                                           |     16777216 | (8192, 2048)        \n",
      "mlp.3.bias                                                             |         8192 | (8192,)             \n",
      "mlp.4.weight                                                           |         8192 | (8192,)             \n",
      "mlp.4.bias                                                             |         8192 | (8192,)             \n",
      "mlp.6.weight                                                           |    178921472 | (21841, 8192)       \n",
      "mlp.6.bias                                                             |        21841 | (21841,)            \n",
      "--------------------------------------------------------------------------------------------------------------\n",
      "TOTAL CLASSIFIER # PARAMS                                              |                           203104593\n",
      "\n",
      "==============================================================================================================\n",
      "TRIPLET CROSS ATTENTION ViT # PARAMS                                   |                           231124817\n",
      "\n"
     ]
    }
   ],
   "source": []
  },
  {
   "cell_type": "markdown",
   "metadata": {},
   "source": [
    "## Test and debug PyraTCAiT model"
   ]
  },
  {
   "cell_type": "code",
   "execution_count": null,
   "metadata": {},
   "outputs": [],
   "source": []
  },
  {
   "cell_type": "code",
   "execution_count": null,
   "metadata": {},
   "outputs": [],
   "source": []
  },
  {
   "cell_type": "code",
   "execution_count": null,
   "metadata": {},
   "outputs": [],
   "source": []
  },
  {
   "cell_type": "code",
   "execution_count": null,
   "metadata": {},
   "outputs": [],
   "source": []
  },
  {
   "cell_type": "code",
   "execution_count": null,
   "metadata": {},
   "outputs": [],
   "source": []
  },
  {
   "cell_type": "code",
   "execution_count": null,
   "metadata": {},
   "outputs": [],
   "source": []
  },
  {
   "cell_type": "code",
   "execution_count": null,
   "metadata": {},
   "outputs": [],
   "source": []
  },
  {
   "cell_type": "markdown",
   "metadata": {},
   "source": [
    "## Test DataDistiller object"
   ]
  },
  {
   "cell_type": "code",
   "execution_count": null,
   "metadata": {},
   "outputs": [],
   "source": []
  },
  {
   "cell_type": "code",
   "execution_count": null,
   "metadata": {},
   "outputs": [],
   "source": []
  },
  {
   "cell_type": "code",
   "execution_count": null,
   "metadata": {},
   "outputs": [],
   "source": []
  },
  {
   "cell_type": "code",
   "execution_count": null,
   "metadata": {},
   "outputs": [],
   "source": []
  },
  {
   "cell_type": "code",
   "execution_count": null,
   "metadata": {},
   "outputs": [],
   "source": []
  },
  {
   "cell_type": "code",
   "execution_count": null,
   "metadata": {},
   "outputs": [],
   "source": []
  },
  {
   "cell_type": "code",
   "execution_count": null,
   "metadata": {},
   "outputs": [],
   "source": []
  },
  {
   "cell_type": "code",
   "execution_count": null,
   "metadata": {},
   "outputs": [],
   "source": []
  },
  {
   "cell_type": "code",
   "execution_count": null,
   "metadata": {},
   "outputs": [],
   "source": []
  },
  {
   "cell_type": "code",
   "execution_count": null,
   "metadata": {},
   "outputs": [],
   "source": []
  },
  {
   "cell_type": "code",
   "execution_count": null,
   "metadata": {},
   "outputs": [],
   "source": []
  },
  {
   "cell_type": "code",
   "execution_count": null,
   "metadata": {},
   "outputs": [],
   "source": []
  },
  {
   "cell_type": "code",
   "execution_count": null,
   "metadata": {},
   "outputs": [],
   "source": []
  },
  {
   "cell_type": "code",
   "execution_count": null,
   "metadata": {},
   "outputs": [],
   "source": []
  },
  {
   "cell_type": "code",
   "execution_count": null,
   "metadata": {},
   "outputs": [],
   "source": []
  },
  {
   "cell_type": "code",
   "execution_count": null,
   "metadata": {},
   "outputs": [],
   "source": []
  },
  {
   "cell_type": "markdown",
   "metadata": {},
   "source": [
    "# Experiments"
   ]
  },
  {
   "cell_type": "code",
   "execution_count": null,
   "metadata": {},
   "outputs": [],
   "source": []
  },
  {
   "cell_type": "code",
   "execution_count": null,
   "metadata": {},
   "outputs": [],
   "source": []
  },
  {
   "cell_type": "code",
   "execution_count": null,
   "metadata": {},
   "outputs": [],
   "source": []
  },
  {
   "cell_type": "code",
   "execution_count": 8,
   "metadata": {},
   "outputs": [
    {
     "ename": "NameError",
     "evalue": "name 'TRAIN_DIM' is not defined",
     "output_type": "error",
     "traceback": [
      "\u001b[0;31m---------------------------------------------------------------------------\u001b[0m",
      "\u001b[0;31mNameError\u001b[0m                                 Traceback (most recent call last)",
      "Cell \u001b[0;32mIn[8], line 3\u001b[0m\n\u001b[1;32m      1\u001b[0m train_transform \u001b[38;5;241m=\u001b[39m [\n\u001b[1;32m      2\u001b[0m     Lambda(\u001b[38;5;28;01mlambda\u001b[39;00m img: img\u001b[38;5;241m.\u001b[39mrepeat(\u001b[38;5;241m3\u001b[39m, \u001b[38;5;241m1\u001b[39m, \u001b[38;5;241m1\u001b[39m) \u001b[38;5;28;01mif\u001b[39;00m img\u001b[38;5;241m.\u001b[39mshape[\u001b[38;5;241m0\u001b[39m] \u001b[38;5;241m==\u001b[39m \u001b[38;5;241m1\u001b[39m \u001b[38;5;28;01melse\u001b[39;00m img),\n\u001b[0;32m----> 3\u001b[0m     RandomResizedCrop(\u001b[43mTRAIN_DIM\u001b[49m),\n\u001b[1;32m      4\u001b[0m     RandomHorizontalFlip(),\n\u001b[1;32m      5\u001b[0m     ColorJitter(BRIGHTNESS, CONTRAST, SATURATION, HUE),\n\u001b[1;32m      6\u001b[0m     Normalize(NORM_MEANS, NORM_STDS)\n\u001b[1;32m      7\u001b[0m ]\n\u001b[1;32m      9\u001b[0m valid_transform \u001b[38;5;241m=\u001b[39m [\n\u001b[1;32m     10\u001b[0m     Lambda(\u001b[38;5;28;01mlambda\u001b[39;00m img: img\u001b[38;5;241m.\u001b[39mrepeat(\u001b[38;5;241m3\u001b[39m, \u001b[38;5;241m1\u001b[39m, \u001b[38;5;241m1\u001b[39m) \u001b[38;5;28;01mif\u001b[39;00m img\u001b[38;5;241m.\u001b[39mshape[\u001b[38;5;241m0\u001b[39m] \u001b[38;5;241m==\u001b[39m \u001b[38;5;241m1\u001b[39m \u001b[38;5;28;01melse\u001b[39;00m img),\n\u001b[1;32m     11\u001b[0m     Resize(VALID_DIM),\n\u001b[1;32m     12\u001b[0m     CenterCrop(TRAIN_DIM),\n\u001b[1;32m     13\u001b[0m     Normalize(NORM_MEANS, NORM_STDS)\n\u001b[1;32m     14\u001b[0m ]\n",
      "\u001b[0;31mNameError\u001b[0m: name 'TRAIN_DIM' is not defined"
     ]
    }
   ],
   "source": [
    "train_transform = [\n",
    "    Lambda(lambda img: img.repeat(3, 1, 1) if img.shape[0] == 1 else img),\n",
    "    RandomResizedCrop(TRAIN_DIM),\n",
    "    RandomHorizontalFlip(),\n",
    "    ColorJitter(BRIGHTNESS, CONTRAST, SATURATION, HUE),\n",
    "    Normalize(NORM_MEANS, NORM_STDS)\n",
    "]\n",
    "\n",
    "valid_transform = [\n",
    "    Lambda(lambda img: img.repeat(3, 1, 1) if img.shape[0] == 1 else img),\n",
    "    Resize(VALID_DIM),\n",
    "    CenterCrop(TRAIN_DIM),\n",
    "    Normalize(NORM_MEANS, NORM_STDS)\n",
    "]"
   ]
  },
  {
   "cell_type": "code",
   "execution_count": null,
   "metadata": {},
   "outputs": [],
   "source": []
  },
  {
   "cell_type": "code",
   "execution_count": null,
   "metadata": {},
   "outputs": [],
   "source": []
  },
  {
   "cell_type": "code",
   "execution_count": null,
   "metadata": {},
   "outputs": [],
   "source": []
  },
  {
   "cell_type": "code",
   "execution_count": null,
   "metadata": {},
   "outputs": [],
   "source": []
  },
  {
   "cell_type": "code",
   "execution_count": null,
   "metadata": {},
   "outputs": [],
   "source": []
  },
  {
   "cell_type": "code",
   "execution_count": null,
   "metadata": {},
   "outputs": [],
   "source": []
  },
  {
   "cell_type": "code",
   "execution_count": null,
   "metadata": {},
   "outputs": [],
   "source": []
  },
  {
   "cell_type": "code",
   "execution_count": null,
   "metadata": {},
   "outputs": [],
   "source": []
  },
  {
   "cell_type": "code",
   "execution_count": null,
   "metadata": {},
   "outputs": [],
   "source": []
  },
  {
   "cell_type": "code",
   "execution_count": null,
   "metadata": {},
   "outputs": [],
   "source": []
  },
  {
   "cell_type": "code",
   "execution_count": null,
   "metadata": {},
   "outputs": [],
   "source": [
    "train_avgs, train_mins, train_maxs = distiller.acc_train_logger.avgs, distiller.acc_train_logger.maxs, distiller.acc_train_logger.mins\n",
    "valid_avgs, valid_mins, valid_maxs = distiller.acc_valid_logger.avgs, distiller.acc_valid_logger.maxs, distiller.acc_valid_logger.mins"
   ]
  },
  {
   "cell_type": "code",
   "execution_count": null,
   "metadata": {},
   "outputs": [],
   "source": []
  },
  {
   "cell_type": "code",
   "execution_count": null,
   "metadata": {},
   "outputs": [],
   "source": []
  },
  {
   "cell_type": "code",
   "execution_count": null,
   "metadata": {},
   "outputs": [],
   "source": []
  },
  {
   "cell_type": "code",
   "execution_count": null,
   "metadata": {},
   "outputs": [],
   "source": []
  },
  {
   "cell_type": "code",
   "execution_count": null,
   "metadata": {},
   "outputs": [],
   "source": []
  },
  {
   "cell_type": "code",
   "execution_count": null,
   "metadata": {},
   "outputs": [],
   "source": []
  },
  {
   "cell_type": "code",
   "execution_count": null,
   "metadata": {},
   "outputs": [],
   "source": []
  },
  {
   "cell_type": "code",
   "execution_count": null,
   "metadata": {},
   "outputs": [],
   "source": []
  },
  {
   "cell_type": "code",
   "execution_count": null,
   "metadata": {},
   "outputs": [],
   "source": []
  }
 ],
 "metadata": {
  "kernelspec": {
   "display_name": "Python [conda env:miniconda3-CichlidDistillation]",
   "language": "python",
   "name": "conda-env-miniconda3-CichlidDistillation-py"
  },
  "language_info": {
   "codemirror_mode": {
    "name": "ipython",
    "version": 3
   },
   "file_extension": ".py",
   "mimetype": "text/x-python",
   "name": "python",
   "nbconvert_exporter": "python",
   "pygments_lexer": "ipython3",
   "version": "3.9.19"
  }
 },
 "nbformat": 4,
 "nbformat_minor": 2
}
